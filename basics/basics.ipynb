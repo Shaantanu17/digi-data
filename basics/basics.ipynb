{
 "cells": [
  {
   "cell_type": "code",
   "execution_count": 16,
   "metadata": {},
   "outputs": [
    {
     "name": "stdout",
     "output_type": "stream",
     "text": [
      "\n"
     ]
    }
   ],
   "source": [
    "print()"
   ]
  },
  {
   "cell_type": "code",
   "execution_count": 17,
   "metadata": {},
   "outputs": [
    {
     "name": "stdout",
     "output_type": "stream",
     "text": [
      "shantanu\n"
     ]
    }
   ],
   "source": [
    "print(\"shantanu\")"
   ]
  },
  {
   "cell_type": "markdown",
   "metadata": {},
   "source": [
    "computer science course"
   ]
  },
  {
   "cell_type": "code",
   "execution_count": 18,
   "metadata": {},
   "outputs": [
    {
     "data": {
      "text/plain": [
       "'computer data'"
      ]
     },
     "execution_count": 18,
     "metadata": {},
     "output_type": "execute_result"
    }
   ],
   "source": [
    "\"computer data\""
   ]
  },
  {
   "cell_type": "code",
   "execution_count": 19,
   "metadata": {},
   "outputs": [
    {
     "data": {
      "text/plain": [
       "120"
      ]
     },
     "execution_count": 19,
     "metadata": {},
     "output_type": "execute_result"
    }
   ],
   "source": [
    "90 + 70 - 40"
   ]
  },
  {
   "cell_type": "code",
   "execution_count": 20,
   "metadata": {},
   "outputs": [
    {
     "name": "stdout",
     "output_type": "stream",
     "text": [
      "bruce wayne clark\n"
     ]
    }
   ],
   "source": [
    "print(\"bruce\",\"wayne\",\"clark\")"
   ]
  },
  {
   "cell_type": "code",
   "execution_count": 21,
   "metadata": {},
   "outputs": [
    {
     "name": "stdout",
     "output_type": "stream",
     "text": [
      "1🍕2🍕3🍕4🍕5🍕6🍕7🍕8🍕9🍕10\n"
     ]
    }
   ],
   "source": [
    "print(1,2,3,4,5,6,7,8,9,10, sep='🍕')"
   ]
  },
  {
   "cell_type": "code",
   "execution_count": 22,
   "metadata": {},
   "outputs": [
    {
     "name": "stdout",
     "output_type": "stream",
     "text": [
      "this is python data science\n",
      "i am studying cpmuter science\n",
      "this is my computer\n"
     ]
    }
   ],
   "source": [
    "print(\"this is python data science\")\n",
    "print(\"i am studying cpmuter science\")\n",
    "print(\"this is my computer\")\n"
   ]
  },
  {
   "cell_type": "code",
   "execution_count": 23,
   "metadata": {},
   "outputs": [
    {
     "name": "stdout",
     "output_type": "stream",
     "text": [
      "\n",
      "shantanu\n",
      "\n"
     ]
    }
   ],
   "source": [
    "print(\"\"\"\n",
    "shantanu\n",
    "\"\"\")"
   ]
  },
  {
   "cell_type": "code",
   "execution_count": 24,
   "metadata": {},
   "outputs": [
    {
     "name": "stdout",
     "output_type": "stream",
     "text": [
      "this that there\n",
      "therefor 🚲🚲🚲🚲🚲🚲\n"
     ]
    }
   ],
   "source": [
    "print('this', end=' ')\n",
    "print('that', end=' ')\n",
    "print('there')\n",
    "print('therefor' ,end=' ')\n",
    "print('🚲🚲🚲🚲🚲🚲')"
   ]
  },
  {
   "cell_type": "code",
   "execution_count": 1,
   "metadata": {},
   "outputs": [],
   "source": [
    "age = 20\n",
    "color2 = 'yellow'\n",
    "name = 'bob'\n"
   ]
  },
  {
   "cell_type": "code",
   "execution_count": 26,
   "metadata": {},
   "outputs": [],
   "source": [
    "name = 'shantanu'"
   ]
  },
  {
   "cell_type": "markdown",
   "metadata": {},
   "source": [
    "*data type can be changed by changing the value of variable*"
   ]
  },
  {
   "cell_type": "code",
   "execution_count": 27,
   "metadata": {},
   "outputs": [],
   "source": [
    "name = \"kanye west\"\n",
    "color = \"yellow\"\n",
    "academy = 'digipodium'\n"
   ]
  },
  {
   "cell_type": "code",
   "execution_count": 28,
   "metadata": {},
   "outputs": [],
   "source": [
    "is_coding=True\n",
    "is_fun=True\n",
    "are_you_bored=False"
   ]
  },
  {
   "cell_type": "code",
   "execution_count": 29,
   "metadata": {},
   "outputs": [],
   "source": [
    "x = None"
   ]
  },
  {
   "cell_type": "code",
   "execution_count": 2,
   "metadata": {},
   "outputs": [],
   "source": [
    "a={5,50,6,60,7,70,8,80,9,90,10,100}\n",
    "vals={1,2,2,'python'}\n",
    "colors={'red,green,blue'}"
   ]
  },
  {
   "cell_type": "code",
   "execution_count": null,
   "metadata": {},
   "outputs": [],
   "source": [
    "a=(5,50,6,60,7,70,8,80,9,90,10,100)\n",
    "vals=(1,2,2,'python')\n",
    "colors=('red,green,blue')"
   ]
  },
  {
   "cell_type": "code",
   "execution_count": null,
   "metadata": {},
   "outputs": [],
   "source": [
    "car_info = {\"brand\":\"ford\",\n",
    "\"model\": \"mustang\",\n",
    "\"year\": 1976\n",
    "\n",
    "\n",
    "\n",
    "\n",
    "}"
   ]
  },
  {
   "cell_type": "markdown",
   "metadata": {},
   "source": [
    "*input in python*"
   ]
  },
  {
   "cell_type": "code",
   "execution_count": null,
   "metadata": {},
   "outputs": [],
   "source": [
    "name = input('what is your name?')\n",
    "city = input('which city do you live in?')\n",
    "print(\"so according to you\")\n",
    "print(\"you are\", name)\n",
    "print(\"town\", city)"
   ]
  },
  {
   "cell_type": "markdown",
   "metadata": {},
   "source": [
    "# operators"
   ]
  },
  {
   "cell_type": "code",
   "execution_count": null,
   "metadata": {},
   "outputs": [],
   "source": [
    "# arthematic operations\n",
    "a = 10\n",
    "b = 3\n",
    "\n",
    "print( a + b) # sub\n",
    "print( a - b) # sub\n",
    "print( a * b) # mul\n",
    "print( a / b) # float div "
   ]
  },
  {
   "cell_type": "code",
   "execution_count": null,
   "metadata": {},
   "outputs": [],
   "source": [
    "print( a // b ) # int div"
   ]
  },
  {
   "cell_type": "code",
   "execution_count": null,
   "metadata": {},
   "outputs": [],
   "source": [
    "print( 23 % 5 ) # remainder"
   ]
  },
  {
   "cell_type": "code",
   "execution_count": null,
   "metadata": {},
   "outputs": [],
   "source": [
    "2 ** 10"
   ]
  },
  {
   "cell_type": "code",
   "execution_count": null,
   "metadata": {},
   "outputs": [],
   "source": [
    "# assigment operators \n",
    "a = 10 \n",
    "b = 5\n",
    "c = 4\n",
    "\n",
    "# alternate way to assign a value to a variable"
   ]
  },
  {
   "cell_type": "code",
   "execution_count": null,
   "metadata": {},
   "outputs": [],
   "source": [
    "a +=2 # update with a + 2"
   ]
  },
  {
   "cell_type": "markdown",
   "metadata": {},
   "source": [
    "# comparion operators\n"
   ]
  },
  {
   "cell_type": "code",
   "execution_count": null,
   "metadata": {},
   "outputs": [],
   "source": [
    "print(a > b) # greater than\n",
    "print(a >= b) # greater than or equal to\n",
    "print(a < b) \n",
    "print(a <= b) \n",
    "print(a == b) \n",
    "print(a != b) \n"
   ]
  },
  {
   "cell_type": "code",
   "execution_count": null,
   "metadata": {},
   "outputs": [
    {
     "name": "stdout",
     "output_type": "stream",
     "text": [
      "True\n",
      "False\n",
      "True\n",
      "True\n",
      "True\n",
      "False\n",
      "False\n"
     ]
    }
   ],
   "source": [
    "# logical operators (and, or, not)\n",
    "print(a > b and a > 5)\n",
    "print(a < b and a> 5)\n",
    "print(a > b or a> 5)\n",
    "print(a < b or a> 5)\n",
    "print(not a < b)\n",
    "print(not a > b)\n",
    "print(not a and not b and not c)"
   ]
  },
  {
   "cell_type": "markdown",
   "metadata": {},
   "source": [
    "# membership operations"
   ]
  },
  {
   "cell_type": "code",
   "execution_count": null,
   "metadata": {},
   "outputs": [
    {
     "name": "stdout",
     "output_type": "stream",
     "text": [
      "True\n",
      "False\n"
     ]
    }
   ],
   "source": [
    "msg = 'its the journey that matters'\n",
    "print (' journey ' in msg)\n",
    "print ('destination' in msg)\n"
   ]
  },
  {
   "cell_type": "markdown",
   "metadata": {},
   "source": [
    "# is the operators check wheater two objects belong to same memory location or not"
   ]
  },
  {
   "cell_type": "markdown",
   "metadata": {},
   "source": [
    "questions"
   ]
  },
  {
   "cell_type": "code",
   "execution_count": null,
   "metadata": {},
   "outputs": [
    {
     "name": "stdout",
     "output_type": "stream",
     "text": [
      "314.0\n"
     ]
    }
   ],
   "source": [
    "# area_of\n",
    "radius = 10\n",
    "area = 3.14 * radius ** 2 \n",
    "print (area)\n"
   ]
  },
  {
   "cell_type": "code",
   "execution_count": null,
   "metadata": {},
   "outputs": [],
   "source": [
    "l = float (input('enter legnth =>'))\n",
    "b "
   ]
  },
  {
   "cell_type": "code",
   "execution_count": null,
   "metadata": {},
   "outputs": [],
   "source": [
    "import math "
   ]
  },
  {
   "cell_type": "code",
   "execution_count": null,
   "metadata": {},
   "outputs": [
    {
     "name": "stdout",
     "output_type": "stream",
     "text": [
      "hypotenuse is 7.211102550927979\n"
     ]
    }
   ],
   "source": [
    "p = float(input('enter prependicular'))\n",
    "b = float(input('enter base'))\n",
    "h = math.hypot(p, b)\n",
    "print ('hypotenuse is', h)\n"
   ]
  },
  {
   "cell_type": "code",
   "execution_count": null,
   "metadata": {},
   "outputs": [
    {
     "name": "stdout",
     "output_type": "stream",
     "text": [
      "['__doc__', '__loader__', '__name__', '__package__', '__spec__', 'acos', 'acosh', 'asin', 'asinh', 'atan', 'atan2', 'atanh', 'ceil', 'comb', 'copysign', 'cos', 'cosh', 'degrees', 'dist', 'e', 'erf', 'erfc', 'exp', 'expm1', 'fabs', 'factorial', 'floor', 'fmod', 'frexp', 'fsum', 'gamma', 'gcd', 'hypot', 'inf', 'isclose', 'isfinite', 'isinf', 'isnan', 'isqrt', 'lcm', 'ldexp', 'lgamma', 'log', 'log10', 'log1p', 'log2', 'modf', 'nan', 'nextafter', 'perm', 'pi', 'pow', 'prod', 'radians', 'remainder', 'sin', 'sinh', 'sqrt', 'tan', 'tanh', 'tau', 'trunc', 'ulp']\n"
     ]
    }
   ],
   "source": [
    "print(dir(math))"
   ]
  },
  {
   "cell_type": "code",
   "execution_count": 6,
   "metadata": {},
   "outputs": [
    {
     "ename": "SyntaxError",
     "evalue": "invalid syntax (254785630.py, line 4)",
     "output_type": "error",
     "traceback": [
      "\u001b[1;36m  Input \u001b[1;32mIn [6]\u001b[1;36m\u001b[0m\n\u001b[1;33m    a = (im(p*(1+r/n)**n*)\u001b[0m\n\u001b[1;37m                         ^\u001b[0m\n\u001b[1;31mSyntaxError\u001b[0m\u001b[1;31m:\u001b[0m invalid syntax\n"
     ]
    }
   ],
   "source": [
    "p = float(input('enter initial principle balance'))\n",
    "r = float(input('enter intrest rate'))\n",
    "n = float(input('enter n'))\n",
    "a = (im(p*(1+r/n)**n*)\n",
    "print('cpmpound intrest',a )"
   ]
  },
  {
   "cell_type": "markdown",
   "metadata": {},
   "source": [
    "conditions"
   ]
  },
  {
   "cell_type": "code",
   "execution_count": null,
   "metadata": {},
   "outputs": [],
   "source": [
    "1 single condition based program (if)\n",
    "2 complete condition logic (if - else)\n",
    "3 multiple condition logic (if elif else)\n"
   ]
  },
  {
   "cell_type": "code",
   "execution_count": 13,
   "metadata": {},
   "outputs": [
    {
     "name": "stdout",
     "output_type": "stream",
     "text": [
      "the end\n"
     ]
    }
   ],
   "source": [
    "x = 2347\n",
    "\n",
    "if x%2 ==0:\n",
    "    print('even')\n",
    "print('the end')"
   ]
  },
  {
   "cell_type": "code",
   "execution_count": 23,
   "metadata": {},
   "outputs": [
    {
     "name": "stdout",
     "output_type": "stream",
     "text": [
      "well done\n"
     ]
    }
   ],
   "source": [
    "num = input('input the number')\n",
    "if num.isnumeric():\n",
    "    print(\"well done\")\n",
    "    num = int(num)\n",
    "else:\n",
    "    print(\"bad input\")\n",
    "      "
   ]
  },
  {
   "cell_type": "code",
   "execution_count": 24,
   "metadata": {},
   "outputs": [
    {
     "name": "stdout",
     "output_type": "stream",
     "text": [
      "welcome to home\n"
     ]
    }
   ],
   "source": [
    "username = \"john cena\"\n",
    "email = 'johncena@gmail.com'\n",
    "password = 'john56'\n",
    "if username== 'john cena':\n",
    "    if email=='johncena@gmail.com':\n",
    "        if password == 'john56':\n",
    "            print(\"welcome to home\")\n",
    "        else:\n",
    "            print(\"wrong name\")\n",
    "    else:\n",
    "         print ('wrong email')\n",
    "else:\n",
    "    print('password')\n",
    "             \n"
   ]
  },
  {
   "cell_type": "code",
   "execution_count": 28,
   "metadata": {},
   "outputs": [
    {
     "name": "stdout",
     "output_type": "stream",
     "text": [
      "wrong username\n"
     ]
    }
   ],
   "source": [
    "username = \"john cena\"\n",
    "email = 'johncena@gmail.com'\n",
    "password = 'john56'\n",
    "if username== 'john cena':\n",
    "    print(\"wrong username\")\n",
    "elif password != 'john56':\n",
    "    print(\"wrong password\")\n",
    "elif email != 'johncena@gmail.com':\n",
    "    print(\"wrong email\")\n",
    "else:\n",
    "    print(\"welcome home\")          \n"
   ]
  },
  {
   "cell_type": "markdown",
   "metadata": {},
   "source": [
    "*wap to calculate the grade of student based on marks,with following rules:*\n"
   ]
  },
  {
   "cell_type": "code",
   "execution_count": 48,
   "metadata": {},
   "outputs": [
    {
     "name": "stdout",
     "output_type": "stream",
     "text": [
      "invalid\n"
     ]
    }
   ],
   "source": [
    "marks =input(\"marks\")\n",
    "if marks.isnumeric():\n",
    "    marks = int(marks)\n",
    "    if marks >=90:\n",
    "        print(\"grade is A\")\n",
    "    elif marks >=80:\n",
    "        print(\"grade is B\") \n",
    "    elif marks >=70:\n",
    "        print(\"grade is c\") \n",
    "    elif marks >=60:\n",
    "        print(\"grade is D\")\n",
    "    elif marks < 60:\n",
    "        print(\"grade is F\")\n",
    "else:\n",
    "    print(\"invalid\")        \n"
   ]
  },
  {
   "cell_type": "code",
   "execution_count": 1,
   "metadata": {},
   "outputs": [
    {
     "data": {
      "text/plain": [
       "8"
      ]
     },
     "execution_count": 1,
     "metadata": {},
     "output_type": "execute_result"
    }
   ],
   "source": [
    "word= 'kawasaki'\n",
    "len(word)"
   ]
  },
  {
   "cell_type": "markdown",
   "metadata": {},
   "source": [
    "for loop syntax"
   ]
  },
  {
   "cell_type": "markdown",
   "metadata": {},
   "source": [
    "Syntax\n",
    "\n",
    "for <variable> in <sequence>:\n",
    "    statement 1\n",
    "    statement 2\n",
    "    \n",
    "    - - -\n",
    "    statement n\n"
   ]
  },
  {
   "cell_type": "code",
   "execution_count": 3,
   "metadata": {},
   "outputs": [
    {
     "name": "stdout",
     "output_type": "stream",
     "text": [
      "P\n",
      "Y\n",
      "T\n",
      "H\n",
      "O\n",
      "N\n"
     ]
    }
   ],
   "source": [
    "x = \"PYTHON\"\n",
    "for i in x:\n",
    "    print(i)\n",
    "    "
   ]
  },
  {
   "cell_type": "code",
   "execution_count": 7,
   "metadata": {},
   "outputs": [
    {
     "name": "stdout",
     "output_type": "stream",
     "text": [
      "i have 🍎apple\n",
      "i have 🍌banana\n",
      "i have 🥭mango\n"
     ]
    }
   ],
   "source": [
    "fruits = [\"🍎apple\",\"🍌banana\",\"🥭mango\"]\n",
    "for item in fruits:\n",
    "    print(f'i have {item}')"
   ]
  },
  {
   "cell_type": "markdown",
   "metadata": {},
   "source": [
    "string setting \n",
    "r = raw string\n",
    "f = formatted string\n"
   ]
  },
  {
   "cell_type": "code",
   "execution_count": 14,
   "metadata": {},
   "outputs": [
    {
     "name": "stdout",
     "output_type": "stream",
     "text": [
      "you got point 0\n",
      "you got point 1\n",
      "you got point 2\n",
      "you got point 3\n",
      "you got point 4\n"
     ]
    }
   ],
   "source": [
    "for i in range (5):\n",
    "    print(\"you got point\",i)\n"
   ]
  },
  {
   "cell_type": "code",
   "execution_count": 1,
   "metadata": {},
   "outputs": [
    {
     "name": "stdout",
     "output_type": "stream",
     "text": [
      "🥚level 1\n",
      "🥚level 4\n",
      "🥚level 7\n",
      "🥚level 10\n",
      "🥚level 13\n",
      "🥚level 16\n"
     ]
    }
   ],
   "source": [
    "for num in range(1,18,3):\n",
    "    print('🥚level',num)"
   ]
  },
  {
   "cell_type": "code",
   "execution_count": 19,
   "metadata": {},
   "outputs": [
    {
     "name": "stdout",
     "output_type": "stream",
     "text": [
      "🍕sheep 2\n",
      "🍕sheep 3\n",
      "🍕sheep 4\n",
      "🍕sheep 5\n",
      "🍕sheep 6\n",
      "🍕sheep 7\n",
      "🍕sheep 8\n",
      "🍕sheep 9\n",
      "🍕sheep 10\n"
     ]
    }
   ],
   "source": [
    "for num in range(2,11):\n",
    "    print('🍕sheep',num)"
   ]
  },
  {
   "cell_type": "code",
   "execution_count": 21,
   "metadata": {},
   "outputs": [
    {
     "name": "stdout",
     "output_type": "stream",
     "text": [
      "18\n",
      "17\n",
      "16\n",
      "15\n",
      "14\n",
      "13\n",
      "12\n",
      "11\n",
      "10\n",
      "9\n",
      "8\n",
      "7\n",
      "6\n"
     ]
    }
   ],
   "source": [
    "# reverse loop\n",
    "for num in range(18,5,-1):\n",
    "    print(num)"
   ]
  },
  {
   "cell_type": "markdown",
   "metadata": {},
   "source": [
    "extra functional setting for (for loop)\n",
    "\n",
    "* enumerate\n",
    "* zip"
   ]
  },
  {
   "cell_type": "code",
   "execution_count": 24,
   "metadata": {},
   "outputs": [
    {
     "name": "stdout",
     "output_type": "stream",
     "text": [
      "2 apple\n",
      "2 banana\n",
      "2 cherry\n",
      "2 orange\n",
      "2 kiwi\n",
      "2 mango\n"
     ]
    }
   ],
   "source": [
    "fruits = ['apple','banana','cherry','orange','kiwi','mango']\n",
    "for fruits in fruits:\n",
    "    print(i,fruits)"
   ]
  },
  {
   "cell_type": "code",
   "execution_count": 22,
   "metadata": {},
   "outputs": [
    {
     "name": "stdout",
     "output_type": "stream",
     "text": [
      "0 apple\n",
      "1 banana\n",
      "2 mango\n"
     ]
    }
   ],
   "source": [
    "for i, fruits in enumerate(fruits):\n",
    "    print(i,fruits)"
   ]
  },
  {
   "cell_type": "code",
   "execution_count": 25,
   "metadata": {},
   "outputs": [],
   "source": [
    "prices = [100,20,50,200,500]"
   ]
  },
  {
   "cell_type": "code",
   "execution_count": 26,
   "metadata": {},
   "outputs": [
    {
     "name": "stdout",
     "output_type": "stream",
     "text": [
      "m => 100\n",
      "a => 20\n",
      "n => 50\n",
      "g => 200\n",
      "o => 500\n"
     ]
    }
   ],
   "source": [
    "for f,p in zip(fruits,prices):\n",
    "    print(f,\"=>\",p)\n"
   ]
  },
  {
   "cell_type": "code",
   "execution_count": 27,
   "metadata": {},
   "outputs": [],
   "source": [
    "qty = ['2kg','2dozens','3 kg','5 kg','4 kg']"
   ]
  },
  {
   "cell_type": "code",
   "execution_count": 34,
   "metadata": {},
   "outputs": [
    {
     "name": "stdout",
     "output_type": "stream",
     "text": [
      "m => 100 for 2kg\n",
      "a => 20 for 2dozens\n",
      "n => 50 for 3 kg\n",
      "g => 200 for 5 kg\n",
      "o => 500 for 4 kg\n"
     ]
    }
   ],
   "source": [
    "for f,p,q in zip(fruits,prices,qty):\n",
    "    print(f,'=>',p,'for',q)"
   ]
  },
  {
   "cell_type": "code",
   "execution_count": 2,
   "metadata": {},
   "outputs": [
    {
     "name": "stdout",
     "output_type": "stream",
     "text": [
      "correct username\n"
     ]
    }
   ],
   "source": [
    "username = 'shaantanu'\n",
    "gmail = 'shantanugiri@gmail.com'\n",
    "password = 'shaan123'\n",
    "if username == 'shaantanu':\n",
    "    print('correct username')\n",
    "elif gmail == 'shantanugiri@gmail.com':\n",
    "    print('correct gmail')\n",
    "elif password == 'shaan123':\n",
    "    print('correct password')\n",
    "else:\n",
    "    print(\"welcome home\")    \n",
    "\n"
   ]
  },
  {
   "cell_type": "code",
   "execution_count": 4,
   "metadata": {},
   "outputs": [
    {
     "name": "stdout",
     "output_type": "stream",
     "text": [
      "wrong username\n"
     ]
    }
   ],
   "source": [
    "username = 'shaantanu'\n",
    "gmail = 'shantanugiri@gmail.com'\n",
    "password = 'shaan123'\n",
    "if username == 'shaantanu':\n",
    "    print('wrong username')\n",
    "elif gmail == 'shantanugiri@gmail.com':\n",
    "    print('wrong gmail')\n",
    "elif password == 'shaan123':\n",
    "    print('wrong password')\n",
    "else:\n",
    "    print(\"incorrect details\") "
   ]
  },
  {
   "cell_type": "code",
   "execution_count": null,
   "metadata": {},
   "outputs": [],
   "source": []
  }
 ],
 "metadata": {
  "kernelspec": {
   "display_name": "Python 3.9.12 ('base')",
   "language": "python",
   "name": "python3"
  },
  "language_info": {
   "codemirror_mode": {
    "name": "ipython",
    "version": 3
   },
   "file_extension": ".py",
   "mimetype": "text/x-python",
   "name": "python",
   "nbconvert_exporter": "python",
   "pygments_lexer": "ipython3",
   "version": "3.9.12"
  },
  "orig_nbformat": 4,
  "vscode": {
   "interpreter": {
    "hash": "79d71d161e7943240a345005223b4b57f09b9732a24e4917a9c0467b3aef16ea"
   }
  }
 },
 "nbformat": 4,
 "nbformat_minor": 2
}
